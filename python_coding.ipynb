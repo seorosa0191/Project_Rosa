{
 "cells": [
  {
   "cell_type": "code",
   "execution_count": null,
   "metadata": {},
   "outputs": [],
   "source": [
    "import pandas as pd\n",
    "import numpy as np\n",
    "import scipy.stats as stats\n",
    "\n",
    "%matplotlib inline\n",
    "import seaborn as sns"
   ]
  },
  {
   "cell_type": "code",
   "execution_count": null,
   "metadata": {},
   "outputs": [],
   "source": [
    "customers = pd.read_csv(\"Olist Brazilian E-Commerce Data/olist_customers_dataset.csv\")\n",
    "geolocations = pd.read_csv(\"Olist Brazilian E-Commerce Data/olist_geolocation_dataset.csv\")\n",
    "orderItems = pd.read_csv(\"Olist Brazilian E-Commerce Data/olist_order_items_dataset.csv\")\n",
    "orderPayments = pd.read_csv(\"Olist Brazilian E-Commerce Data/olist_order_payments_dataset.csv\")\n",
    "orderReviews = pd.read_csv(\"Olist Brazilian E-Commerce Data/olist_order_reviews_dataset.csv\")\n",
    "orders = pd.read_csv(\"Olist Brazilian E-Commerce Data/olist_orders_dataset.csv\")\n",
    "products = pd.read_csv(\"Olist Brazilian E-Commerce Data/olist_products_dataset.csv\")\n",
    "sellers = pd.read_csv(\"Olist Brazilian E-Commerce Data/olist_sellers_dataset.csv\")\n",
    "productCategoryName = pd.read_csv(\"Olist Brazilian E-Commerce Data/product_category_name_translation.csv\")"
   ]
  },
  {
   "cell_type": "code",
   "execution_count": null,
   "metadata": {},
   "outputs": [],
   "source": [
    "#orders['formatted_order_purchase_timestamp'] = pd.to_datetime(orders.order_purchase_timestamp,unit = 's')\n",
    "orders['purchase_year'] = orders.order_purchase_timestamp.str.slice(0,4)\n",
    "orders.purchase_year = orders.purchase_year.astype(int)\n",
    "orders['purchase_month'] = orders.order_purchase_timestamp.str.slice(5,7)\n",
    "orders.purchase_month = orders.purchase_month.astype(int)\n",
    "\n",
    "monthly_transaction = orders.groupby(['purchase_year','purchase_month']).size()\n",
    "\n",
    "orderItemsUnique = orderItems[orderItems.order_item_id == 1]\n",
    "\n",
    "ordersWithItems = orders.merge(orderItemsUnique, on='order_id')[['order_id','customer_id','purchase_year','purchase_month','product_id','seller_id','price']]\n",
    "monthly_amount = ordersWithItems.groupby(['purchase_year','purchase_month']).price.sum()"
   ]
  },
  {
   "cell_type": "code",
   "execution_count": null,
   "metadata": {},
   "outputs": [],
   "source": [
    "#1. What is the growth of the company?"
   ]
  },
  {
   "cell_type": "code",
   "execution_count": null,
   "metadata": {},
   "outputs": [],
   "source": [
    "#1-a. How many transactions were made each year by month?"
   ]
  },
  {
   "cell_type": "code",
   "execution_count": null,
   "metadata": {},
   "outputs": [],
   "source": [
    "print(monthly_transaction)"
   ]
  },
  {
   "cell_type": "code",
   "execution_count": null,
   "metadata": {},
   "outputs": [],
   "source": [
    "monthly_transaction.plot(kind='line', title = 'Transaction Counts')\n",
    "sns.mpl.pyplot.ylabel('Counts')\n",
    "sns.mpl.pyplot.xlabel('Year, Month')"
   ]
  },
  {
   "cell_type": "code",
   "execution_count": null,
   "metadata": {},
   "outputs": [],
   "source": [
    "#1-b. How many dollar sales were generated each year by month?"
   ]
  },
  {
   "cell_type": "code",
   "execution_count": null,
   "metadata": {},
   "outputs": [],
   "source": [
    "print(monthly_amount)"
   ]
  },
  {
   "cell_type": "code",
   "execution_count": null,
   "metadata": {},
   "outputs": [],
   "source": [
    "#2. Who are the best sellers by amount? by number of transactions?"
   ]
  },
  {
   "cell_type": "code",
   "execution_count": null,
   "metadata": {},
   "outputs": [],
   "source": [
    "bestSeller = ordersWithItems.groupby('seller_id')\n",
    "print('best seller by amount:\\n', bestSeller.size().sort_values(ascending=False).head(1))\n",
    "print('best seller by number of transactions:\\n', bestSeller.price.sum().sort_values(ascending=False).head(1))"
   ]
  },
  {
   "cell_type": "code",
   "execution_count": null,
   "metadata": {},
   "outputs": [],
   "source": [
    "#3. What are the trends of top 5 best selling product type over the years?"
   ]
  },
  {
   "cell_type": "code",
   "execution_count": null,
   "metadata": {},
   "outputs": [],
   "source": [
    "Category_Translation = products.merge(productCategoryName, on='product_category_name')[['product_id','product_category_name','product_category_name_english']]\n",
    "ordersWithItemsCategory = ordersWithItems.merge(Category_Translation, on='product_id')\n",
    "del ordersWithItemsCategory['product_category_name']\n",
    "categorySales = ordersWithItemsCategory.groupby('product_category_name_english').price.sum().sort_values(ascending=False).head(5).index\n",
    "categorySalesTop5 = ordersWithItemsCategory[ordersWithItemsCategory.product_category_name_english.isin(categorySales)]\n",
    "categorySalesAmount = categorySalesTop5.groupby(['purchase_year','purchase_month','product_category_name_english']).sum()\n",
    "unstackedCategorySalesAmount = categorySalesAmount.unstack()"
   ]
  },
  {
   "cell_type": "code",
   "execution_count": null,
   "metadata": {},
   "outputs": [],
   "source": [
    "unstackedCategorySalesAmount.plot(title = 'Top 5 Best Selling Product Type',\n",
    "                                  subplots=True, figsize=(15,4), layout=(1,5), sharey=True)"
   ]
  },
  {
   "cell_type": "code",
   "execution_count": null,
   "metadata": {},
   "outputs": [],
   "source": [
    "#4. Is there any customer location that showed significant growth over the years?"
   ]
  },
  {
   "cell_type": "code",
   "execution_count": null,
   "metadata": {},
   "outputs": [],
   "source": [
    "customers.head()\n",
    "orders.head()\n",
    "ordersWithCustomers = ordersWithItems.merge(customers, on='customer_id')[['order_id','customer_id','purchase_year','purchase_month','price','customer_zip_code_prefix','customer_city','customer_state']]\n",
    "customerState = ordersWithCustomers.groupby(['purchase_year','customer_state']).price.sum()\n",
    "unstackedCustomerState = customerState.unstack()\n",
    "\n",
    "customerStateByYear = unstackedCustomerState.T\n",
    "customerStateByYear['Growth'] = customerStateByYear[2018] - customerStateByYear[2016]\n",
    "top5State = customerStateByYear.Growth.sort_values(ascending=False).head(5).index\n",
    "print(top5State)\n",
    "\n",
    "unstackedCustomerState.plot(kind='bar')\n",
    "\n",
    "#customerState.sort_values(ascending=False).head()"
   ]
  },
  {
   "cell_type": "code",
   "execution_count": null,
   "metadata": {},
   "outputs": [],
   "source": [
    "#5. How much sales can we expect to see in the rest of 2018 based of the sales growth from 2016 to 2017 "
   ]
  }
 ],
 "metadata": {
  "kernelspec": {
   "display_name": "Python 3",
   "language": "python",
   "name": "python3"
  },
  "language_info": {
   "codemirror_mode": {
    "name": "ipython",
    "version": 3
   },
   "file_extension": ".py",
   "mimetype": "text/x-python",
   "name": "python",
   "nbconvert_exporter": "python",
   "pygments_lexer": "ipython3",
   "version": "3.7.4"
  }
 },
 "nbformat": 4,
 "nbformat_minor": 2
}
